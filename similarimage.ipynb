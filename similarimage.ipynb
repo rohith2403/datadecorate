{
  "nbformat": 4,
  "nbformat_minor": 0,
  "metadata": {
    "colab": {
      "name": "similarimage.ipynb",
      "provenance": [],
      "collapsed_sections": [],
      "authorship_tag": "ABX9TyNqrNavW+/VjRTYWSJWy7yn",
      "include_colab_link": true
    },
    "kernelspec": {
      "name": "python3",
      "display_name": "Python 3"
    },
    "language_info": {
      "name": "python"
    }
  },
  "cells": [
    {
      "cell_type": "markdown",
      "metadata": {
        "id": "view-in-github",
        "colab_type": "text"
      },
      "source": [
        "<a href=\"https://colab.research.google.com/github/rohith2403/datadecorate/blob/main/similarimage.ipynb\" target=\"_parent\"><img src=\"https://colab.research.google.com/assets/colab-badge.svg\" alt=\"Open In Colab\"/></a>"
      ]
    },
    {
      "cell_type": "code",
      "metadata": {
        "colab": {
          "base_uri": "https://localhost:8080/"
        },
        "id": "4KzqAAEp9TSY",
        "outputId": "312626e5-4fff-4211-f357-06d1ff9485ff"
      },
      "source": [
        "#using python library to scrap the image.\n",
        "!pip install bing-image-downloader"
      ],
      "execution_count": 3,
      "outputs": [
        {
          "output_type": "stream",
          "text": [
            "Collecting bing-image-downloader\n",
            "  Downloading bing_image_downloader-1.1.1-py3-none-any.whl (5.7 kB)\n",
            "Installing collected packages: bing-image-downloader\n",
            "Successfully installed bing-image-downloader-1.1.1\n"
          ],
          "name": "stdout"
        }
      ]
    },
    {
      "cell_type": "code",
      "metadata": {
        "id": "OHcnffW99AP1"
      },
      "source": [
        "!mkdir images"
      ],
      "execution_count": null,
      "outputs": []
    },
    {
      "cell_type": "code",
      "metadata": {
        "colab": {
          "base_uri": "https://localhost:8080/"
        },
        "id": "VliLVzFVBdt6",
        "outputId": "130dd8e0-b1d7-415e-e10b-cc0268bb7ca8"
      },
      "source": [
        "from bing_image_downloader import downloader\n",
        "downloader.download(\"cricket bat\",limit=30,output_dir=\"images\",adult_filter_off=True)"
      ],
      "execution_count": 5,
      "outputs": [
        {
          "output_type": "stream",
          "text": [
            "[%] Downloading Images to /content/images/cricket bat\n",
            "\n",
            "\n",
            "[!!]Indexing page: 1\n",
            "\n",
            "[%] Indexed 30 Images on Page 1.\n",
            "\n",
            "===============================================\n",
            "\n",
            "[%] Downloading Image #1 from https://n4.sdlcdn.com/imgs/i/9/l/BMD-POPLER-WELLOW-CRICKET-BAT-SDL196099538-1-cf279.jpeg\n",
            "[%] File Downloaded !\n",
            "\n",
            "[%] Downloading Image #2 from https://www.prodirectcricket.com/productimages/Gallery_2/V3_1_Gallery_2_0165398.jpg\n",
            "[!] Issue getting: https://www.prodirectcricket.com/productimages/Gallery_2/V3_1_Gallery_2_0165398.jpg\n",
            "[!] Error:: HTTP Error 403: Forbidden\n",
            "[%] Downloading Image #2 from https://www.prodirectcricket.com/productimages/Main/V3_1_Main_0165412.jpg\n",
            "[!] Issue getting: https://www.prodirectcricket.com/productimages/Main/V3_1_Main_0165412.jpg\n",
            "[!] Error:: HTTP Error 403: Forbidden\n",
            "[%] Downloading Image #2 from https://www.prodirectcricket.com/productimages/Main/117122.jpg\n",
            "[!] Issue getting: https://www.prodirectcricket.com/productimages/Main/117122.jpg\n",
            "[!] Error:: HTTP Error 403: Forbidden\n",
            "[%] Downloading Image #2 from https://n1.sdlcdn.com/imgs/h/m/4/SA-Sports-English-Willow-Cricket-SDL725703662-2-579ee.jpeg\n",
            "[%] File Downloaded !\n",
            "\n",
            "[%] Downloading Image #3 from https://n2.sdlcdn.com/imgs/i/x/b/Popular-willow-cricket-bat-Market-SDL943524258-1-2348e.jpeg\n",
            "[%] File Downloaded !\n",
            "\n",
            "[%] Downloading Image #4 from https://n4.sdlcdn.com/imgs/i/i/h/Wasan-Fibre-glass-Cricket-bat-SDL076613636-1-82f64.jpeg\n",
            "[%] File Downloaded !\n",
            "\n",
            "[%] Downloading Image #5 from https://n1.sdlcdn.com/imgs/j/b/7/kashmir-willow-cricket-bat-SDL973783857-3-77de8.jpeg\n",
            "[%] File Downloaded !\n",
            "\n",
            "[%] Downloading Image #6 from https://n3.sdlcdn.com/imgs/g/r/s/spartan-blue-popular-willow-cricket-SDL568742857-1-ccf26.jpeg\n",
            "[%] File Downloaded !\n",
            "\n",
            "[%] Downloading Image #7 from https://i.ebayimg.com/images/i/233233989064-0-1/s-l1000.jpg\n",
            "[%] File Downloaded !\n",
            "\n",
            "[%] Downloading Image #8 from https://n3.sdlcdn.com/imgs/h/j/f/spartan-chalanger-cricket-bat-SDL754606828-1-07f67.jpeg\n",
            "[%] File Downloaded !\n",
            "\n",
            "[%] Downloading Image #9 from https://n2.sdlcdn.com/imgs/g/i/f/Kashmir-Willow-Cricket-Bat-SDL049542430-1-cf699.jpeg\n",
            "[%] File Downloaded !\n",
            "\n",
            "[%] Downloading Image #10 from https://www.prodirectcricket.com/productimages/Main/147780.jpg\n",
            "[!] Issue getting: https://www.prodirectcricket.com/productimages/Main/147780.jpg\n",
            "[!] Error:: HTTP Error 403: Forbidden\n",
            "[%] Downloading Image #10 from https://n1.sdlcdn.com/imgs/h/m/d/Natural-Polish-Popular-Willow-Cricket-SDL063550134-1-ac696.jpeg\n",
            "[%] File Downloaded !\n",
            "\n",
            "[%] Downloading Image #11 from https://n4.sdlcdn.com/imgs/j/i/5/SG-Cricket-Bat-SDL743753262-1-14a59.jpg\n",
            "[%] File Downloaded !\n",
            "\n",
            "[%] Downloading Image #12 from https://n4.sdlcdn.com/imgs/i/2/v/LenWave-English-Willow-Cricket-Bat-SDL154447621-4-f5313.jpeg\n",
            "[%] File Downloaded !\n",
            "\n",
            "[%] Downloading Image #13 from https://files.websitebuilder.prositehosting.co.uk/67/99/67994b9f-73cd-422e-b334-8456c20aadec.jpg\n",
            "[%] File Downloaded !\n",
            "\n",
            "[%] Downloading Image #14 from https://n1.sdlcdn.com/imgs/h/h/t/NB-Tc-660-Cricket-Bat-SDL257651881-1-bf977.jpeg\n",
            "[%] File Downloaded !\n",
            "\n",
            "[%] Downloading Image #15 from https://n3.sdlcdn.com/imgs/g/h/m/kookabura-popular-cricket-bat-SDL078309309-5-e6138.jpeg\n",
            "[%] File Downloaded !\n",
            "\n",
            "[%] Downloading Image #16 from https://n4.sdlcdn.com/imgs/g/6/k/ABS-TOP-Grains-English-Willow-SDL507924939-3-6c5a0.jpeg\n",
            "[%] File Downloaded !\n",
            "\n",
            "[%] Downloading Image #17 from https://n3.sdlcdn.com/imgs/h/j/v/LB-NB580-English-Willow-Cricket-SDL507035410-1-b93a5.jpeg\n",
            "[%] File Downloaded !\n",
            "\n",
            "[%] Downloading Image #18 from https://www.prodirectcricket.com/productimages/Gallery_1/V3_1_Gallery_1_0241780.jpg?imwidth=375\n",
            "[!] Issue getting: https://www.prodirectcricket.com/productimages/Gallery_1/V3_1_Gallery_1_0241780.jpg?imwidth=375\n",
            "[!] Error:: HTTP Error 403: Forbidden\n",
            "[%] Downloading Image #18 from https://n3.sdlcdn.com/imgs/f/o/k/KDM-Sports-Black-Cat-Cricket-SDL015675952-3-ddb50.JPG\n",
            "[%] File Downloaded !\n",
            "\n",
            "[%] Downloading Image #19 from https://i.ebayimg.com/images/g/lNQAAOSwF1hcu1dB/s-l640.jpg\n",
            "[%] File Downloaded !\n",
            "\n",
            "[%] Downloading Image #20 from https://n1.sdlcdn.com/imgs/f/b/q/KKS-Junior-Cricket-Bat-SDL862315844-1-06319.jpg\n",
            "[%] File Downloaded !\n",
            "\n",
            "[%] Downloading Image #21 from https://n3.sdlcdn.com/imgs/i/h/e/CEAT-KASHMIR-WILLOW-CRICKET-BAT-SDL023104939-1-7c8bd.jpeg\n",
            "[%] File Downloaded !\n",
            "\n",
            "[%] Downloading Image #22 from https://n3.sdlcdn.com/imgs/b/v/z/Sunley-Juniour-Cricket-Bat-SDL792866138-1-76b44.JPG\n",
            "[%] File Downloaded !\n",
            "\n",
            "[%] Downloading Image #23 from https://www.prodirectcricket.com/productimages/Main/147771.jpg\n",
            "[!] Issue getting: https://www.prodirectcricket.com/productimages/Main/147771.jpg\n",
            "[!] Error:: HTTP Error 403: Forbidden\n",
            "[%] Downloading Image #23 from https://n3.sdlcdn.com/imgs/f/t/2/FLX-T520-Cricket-Bat-Green-SDL426584292-1-3d698.jpg\n",
            "[%] File Downloaded !\n",
            "\n",
            "[%] Downloading Image #24 from https://n2.sdlcdn.com/imgs/f/x/q/Cricket-bat-SDL495813378-1-e8fa4.jpeg\n",
            "[%] File Downloaded !\n",
            "\n",
            "\n",
            "\n",
            "[!!]Indexing page: 2\n",
            "\n",
            "[%] Indexed 35 Images on Page 2.\n",
            "\n",
            "===============================================\n",
            "\n",
            "[%] Downloading Image #25 from https://n4.sdlcdn.com/imgs/i/9/l/BMD-POPLER-WELLOW-CRICKET-BAT-SDL196099538-1-cf279.jpeg\n",
            "[%] File Downloaded !\n",
            "\n",
            "[%] Downloading Image #26 from https://www.prodirectcricket.com/productimages/Gallery_2/V3_1_Gallery_2_0165398.jpg\n",
            "[!] Issue getting: https://www.prodirectcricket.com/productimages/Gallery_2/V3_1_Gallery_2_0165398.jpg\n",
            "[!] Error:: HTTP Error 403: Forbidden\n",
            "[%] Downloading Image #26 from https://www.prodirectcricket.com/productimages/Main/V3_1_Main_0165412.jpg\n",
            "[!] Issue getting: https://www.prodirectcricket.com/productimages/Main/V3_1_Main_0165412.jpg\n",
            "[!] Error:: HTTP Error 403: Forbidden\n",
            "[%] Downloading Image #26 from https://www.prodirectcricket.com/productimages/Main/117122.jpg\n",
            "[!] Issue getting: https://www.prodirectcricket.com/productimages/Main/117122.jpg\n",
            "[!] Error:: HTTP Error 403: Forbidden\n",
            "[%] Downloading Image #26 from https://n1.sdlcdn.com/imgs/h/m/4/SA-Sports-English-Willow-Cricket-SDL725703662-2-579ee.jpeg\n",
            "[%] File Downloaded !\n",
            "\n",
            "[%] Downloading Image #27 from https://n2.sdlcdn.com/imgs/i/x/b/Popular-willow-cricket-bat-Market-SDL943524258-1-2348e.jpeg\n",
            "[%] File Downloaded !\n",
            "\n",
            "[%] Downloading Image #28 from https://n4.sdlcdn.com/imgs/i/i/h/Wasan-Fibre-glass-Cricket-bat-SDL076613636-1-82f64.jpeg\n",
            "[%] File Downloaded !\n",
            "\n",
            "[%] Downloading Image #29 from https://n1.sdlcdn.com/imgs/j/b/7/kashmir-willow-cricket-bat-SDL973783857-3-77de8.jpeg\n",
            "[%] File Downloaded !\n",
            "\n",
            "[%] Downloading Image #30 from https://n3.sdlcdn.com/imgs/g/r/s/spartan-blue-popular-willow-cricket-SDL568742857-1-ccf26.jpeg\n",
            "[%] File Downloaded !\n",
            "\n",
            "\n",
            "\n",
            "[%] Done. Downloaded 30 images.\n",
            "===============================================\n",
            "\n",
            "Please show your support here\n",
            "https://www.buymeacoffee.com/gurugaurav\n",
            "\n",
            "===============================================\n",
            "\n"
          ],
          "name": "stdout"
        }
      ]
    },
    {
      "cell_type": "code",
      "metadata": {
        "id": "l5rUuMbbD486"
      },
      "source": [
        ""
      ],
      "execution_count": null,
      "outputs": []
    },
    {
      "cell_type": "code",
      "metadata": {
        "colab": {
          "base_uri": "https://localhost:8080/"
        },
        "id": "OJqGldY_DKF_",
        "outputId": "3319ff0f-d155-4d0e-86be-4fe776b89ead"
      },
      "source": [
        "downloader.download(\"Hockey stick\",limit=30,output_dir=\"images\",adult_filter_off=True)"
      ],
      "execution_count": 6,
      "outputs": [
        {
          "output_type": "stream",
          "text": [
            "[%] Downloading Images to /content/images/Hockey stick\n",
            "\n",
            "\n",
            "[!!]Indexing page: 1\n",
            "\n",
            "[%] Indexed 30 Images on Page 1.\n",
            "\n",
            "===============================================\n",
            "\n",
            "[%] Downloading Image #1 from https://cdn.shopify.com/s/files/1/0314/1049/products/Pro_Stock_Hockey_Stick_-_True_A6.0_SBP_3f5698bf-60d7-4692-8cbb-03a4c1eec93d_2048x2048.jpg?v=1547936719\n",
            "[%] File Downloaded !\n",
            "\n",
            "[%] Downloading Image #2 from https://cdn.shopify.com/s/files/1/1973/6723/products/True-AX5-Hockey-Stick_1024x1024.jpg?v=1578580626\n",
            "[%] File Downloaded !\n",
            "\n",
            "[%] Downloading Image #3 from https://cdn.shopify.com/s/files/1/1973/6723/products/True-AX9-Hockey-Stick_805d469d-6fcf-4770-af54-f94885132bf9_1024x1024.jpg?v=1578580261\n",
            "[%] File Downloaded !\n",
            "\n",
            "[%] Downloading Image #4 from https://cdn.shopify.com/s/files/1/1973/6723/products/True-AX3-Hockey-Stick_3a08fc8a-3ebc-4f4c-9711-c98c09f9648c_1024x1024.jpg?v=1578582837\n",
            "[%] File Downloaded !\n",
            "\n",
            "[%] Downloading Image #5 from https://cdn.shoplightspeed.com/shops/608796/files/15883008/true-2019-true-stk-xc9-jr-hockey-sticks.jpg\n",
            "[%] File Downloaded !\n",
            "\n",
            "[%] Downloading Image #6 from https://cdn11.bigcommerce.com/s-dses6v/images/stencil/1280x1280/products/2402/25275/true-hockey-stick-xcore-5-acf-sr__24617.1516378383.jpg?c=2?imbypass=on\n",
            "[%] File Downloaded !\n",
            "\n",
            "[%] Downloading Image #7 from http://ep.yimg.com/ay/hockeymonkey/true-xcore-9-sr-hockey-stick-7.jpg\n",
            "[%] File Downloaded !\n",
            "\n",
            "[%] Downloading Image #8 from http://ep.yimg.com/ay/hockeymonkey/true-a6-0-sbp-matte-grip-int-hockey-stick-15.jpg\n",
            "[%] File Downloaded !\n",
            "\n",
            "[%] Downloading Image #9 from https://cdn.shopify.com/s/files/1/0314/1049/products/Pro_Stock_Hockey_Stick_-_True_XC9_ACF_2048x2048.jpg?v=1577738091\n",
            "[%] File Downloaded !\n",
            "\n",
            "[%] Downloading Image #10 from http://ep.yimg.com/ay/hockeymonkey/true-xcore-5-sr-hockey-stick-14.jpg\n",
            "[%] File Downloaded !\n",
            "\n",
            "[%] Downloading Image #11 from https://az687141.vo.msecnd.net/6049a72721454fa9a416cd4451a915d3/Images/Products17255-832x832--811006980.jpg\n",
            "[%] File Downloaded !\n",
            "\n",
            "[%] Downloading Image #12 from https://www.tackla.com/shop/media/catalog/product/cache/6/image/9df78eab33525d08d6e5fb8d27136e95/t/r/true-hockey-stick-a4.5_2.jpg\n",
            "[%] File Downloaded !\n",
            "\n",
            "[%] Downloading Image #13 from http://www.hockeywest.com/1050-true-hockey-xcore-xc9-acf-grip-hockey-stick.jpg\n",
            "[%] File Downloaded !\n",
            "\n",
            "[%] Downloading Image #14 from https://cdn.shoplightspeed.com/shops/626262/files/13788180/true-true-a10-sbp-grip-hockey-stick-sr.jpg\n",
            "[%] File Downloaded !\n",
            "\n",
            "[%] Downloading Image #15 from https://cdn.shopify.com/s/files/1/1973/6723/products/True-AX9-Hockey-Stick-Back_1024x1024.jpg?v=1578580274\n",
            "[%] File Downloaded !\n",
            "\n",
            "[%] Downloading Image #16 from https://az687141.vo.msecnd.net/6049a72721454fa9a416cd4451a915d3/Images/Products20554-832x832-1010200807.jpg\n",
            "[%] File Downloaded !\n",
            "\n",
            "[%] Downloading Image #17 from https://www.tackla.com/shop/media/catalog/product/cache/6/image/9df78eab33525d08d6e5fb8d27136e95/t/r/true-hockey-stick-xc9_2.jpg\n",
            "[%] File Downloaded !\n",
            "\n",
            "[%] Downloading Image #18 from https://az687141.vo.msecnd.net/6049a72721454fa9a416cd4451a915d3/Images/Products17261-832x832--1340972485.jpg\n",
            "[%] File Downloaded !\n",
            "\n",
            "[%] Downloading Image #19 from https://www.sportszonecanada.com/media/catalog/product/cache/1/thumbnail/900x/9df78eab33525d08d6e5fb8d27136e95/4/0/40125_1.jpg\n",
            "[%] File Downloaded !\n",
            "\n",
            "[%] Downloading Image #20 from https://www.hockeyplusinc.com/wp-content/uploads/2019/03/True-A4.5-SBP-Senior-Hockey-Stick.jpg\n",
            "[%] File Downloaded !\n",
            "\n",
            "[%] Downloading Image #21 from https://cdn.shopify.com/s/files/1/1973/6723/products/True-A5.2-Hockey-Stick-2018-min_1024x1024.jpg?v=1518105849\n",
            "[%] File Downloaded !\n",
            "\n",
            "[%] Downloading Image #22 from https://www.skatestation.co.uk/images/products/standard/4211.jpg\n",
            "[%] File Downloaded !\n",
            "\n",
            "[%] Downloading Image #23 from https://www.hokejam.com/media/catalog/product/t/r/true-hockey-stick-xcore-5-sr.jpg\n",
            "[%] File Downloaded !\n",
            "\n",
            "[%] Downloading Image #24 from https://cdn.shopify.com/s/files/1/1973/6723/products/True-XC9-ACF-Gen-2-Hockey-Stick_1024x1024.jpg?v=1569126947\n",
            "[%] File Downloaded !\n",
            "\n",
            "[%] Downloading Image #25 from https://cdn.sportlaunches.com/wp-content/uploads/2017/08/CCM-RBZ-FT1-Stick.jpg\n",
            "[%] File Downloaded !\n",
            "\n",
            "[%] Downloading Image #26 from http://ep.yimg.com/ay/hockeymonkey/true-a1-0-sbp-matte-grip-jr-hockey-stick-13.jpg\n",
            "[%] File Downloaded !\n",
            "\n",
            "[%] Downloading Image #27 from https://cdn.shopify.com/s/files/1/1956/9819/products/416815_b6a5f750-d89e-4ea0-82e9-cbab8d0d3481_1024x1024.jpg?v=1581895736\n",
            "[%] File Downloaded !\n",
            "\n",
            "[%] Downloading Image #28 from https://i5.walmartimages.com/asr/263088b1-6adb-4ea1-a573-0889500666fe_1.dae429467d254bedb8568a135912d263.jpeg?odnWidth=612&amp;odnHeight=612&amp;odnBg=ffffff\n",
            "[%] File Downloaded !\n",
            "\n",
            "[%] Downloading Image #29 from https://www.hockeyplusinc.com/wp-content/uploads/2019/03/True-A4.5-SBP-Senior-Hockey-Stick-Blade.jpg\n",
            "[%] File Downloaded !\n",
            "\n",
            "[%] Downloading Image #30 from http://ep.yimg.com/ay/hockeymonkey/true-temper-6-0-sr-hockey-stick-17.jpg\n",
            "[%] File Downloaded !\n",
            "\n",
            "\n",
            "\n",
            "[%] Done. Downloaded 30 images.\n",
            "===============================================\n",
            "\n",
            "Please show your support here\n",
            "https://www.buymeacoffee.com/gurugaurav\n",
            "\n",
            "===============================================\n",
            "\n"
          ],
          "name": "stdout"
        }
      ]
    },
    {
      "cell_type": "code",
      "metadata": {
        "colab": {
          "base_uri": "https://localhost:8080/"
        },
        "id": "BAjPX6lAD-ky",
        "outputId": "eb9380fc-44e7-44f8-adac-5b5bf256500b"
      },
      "source": [
        "downloader.download(\"baseball bat\",limit=30,output_dir=\"images\",adult_filter_off=True)"
      ],
      "execution_count": 7,
      "outputs": [
        {
          "output_type": "stream",
          "text": [
            "[%] Downloading Images to /content/images/baseball bat\n",
            "\n",
            "\n",
            "[!!]Indexing page: 1\n",
            "\n",
            "[%] Indexed 30 Images on Page 1.\n",
            "\n",
            "===============================================\n",
            "\n",
            "[%] Downloading Image #1 from https://dac8r2vkxfv8c.cloudfront.net/images/products/5d6b-12-19-true-t--x--10-usssa-baseball-bat--ut-tssx-20-10-32234-2_l.jpg\n",
            "[%] File Downloaded !\n",
            "\n",
            "[%] Downloading Image #2 from https://www.baseballmonkey.com/media/catalog/product/cache/b32e7142753984368b8a4b1edc19a338/t/r/true-baseball-bat-ts-usa-2020-10-inset2.jpg\n",
            "[%] File Downloaded !\n",
            "\n",
            "[%] Downloading Image #3 from https://dac8r2vkxfv8c.cloudfront.net/images/products/54f5-10-19-32222-1_l.jpg\n",
            "[%] File Downloaded !\n",
            "\n",
            "[%] Downloading Image #4 from https://dac8r2vkxfv8c.cloudfront.net/images/products/9561-10-19-32222_l.jpg\n",
            "[%] File Downloaded !\n",
            "\n",
            "[%] Downloading Image #5 from https://dac8r2vkxfv8c.cloudfront.net/images/products/57b6-01-20-true-t---10-usa-baseball-bat--yb-ts-20-10-32224-2_m.jpg\n",
            "[%] File Downloaded !\n",
            "\n",
            "[%] Downloading Image #6 from https://cdn.shopify.com/s/files/1/1379/0187/products/005_271_TDS-UT-20-T1X-10_USSSA_DROP10_-_ANGLE3_89cb1b25-0add-4983-9b22-1f61c9e9b9b9_2048x.png?v=1583344297\n",
            "[%] File Downloaded !\n",
            "\n",
            "[%] Downloading Image #7 from https://dac8r2vkxfv8c.cloudfront.net/images/products/62a8-12-19-true-t-x--10-usssa-baseball-bat--ut-tsx-20-10-32233-1_l.jpg\n",
            "[%] File Downloaded !\n",
            "\n",
            "[%] Downloading Image #8 from https://dac8r2vkxfv8c.cloudfront.net/images/products/f605-10-19-32228_l.jpg\n",
            "[%] File Downloaded !\n",
            "\n",
            "[%] Downloading Image #9 from https://dac8r2vkxfv8c.cloudfront.net/images/products/0d93-01-20-true-t---10-usa-baseball-bat--yb-ts-20-10-32224-1_m.jpg\n",
            "[%] File Downloaded !\n",
            "\n",
            "[%] Downloading Image #10 from https://truebaseball.net/wp-content/uploads/2019/08/71pn9me6PWL._AC_SL1500_.jpg\n",
            "[%] File Downloaded !\n",
            "\n",
            "[%] Downloading Image #11 from https://dac8r2vkxfv8c.cloudfront.net/images/products/5727-10-19-32218_l.jpg\n",
            "[%] File Downloaded !\n",
            "\n",
            "[%] Downloading Image #12 from https://cdn.shopify.com/s/files/1/1379/0187/products/005_271_TDS-UT-20-T1X-10_USSSA_DROP10_-_ANGLE7_34c35ff7-b76e-4538-8f2b-f39081cb7d1a_2048x.png?v=1583344273\n",
            "[%] File Downloaded !\n",
            "\n",
            "[%] Downloading Image #13 from https://cdn.shopify.com/s/files/1/1379/0187/products/008_243_TDS-UT-20-T2X-10_USSSA_DROP10_-_ANGLE6_8b141f50-deda-4293-8902-1a04814a9c73_2048x.png?v=1583344682\n",
            "[%] File Downloaded !\n",
            "\n",
            "[%] Downloading Image #14 from https://dac8r2vkxfv8c.cloudfront.net/images/products/fa1e-10-19-32223-1_m.jpg\n",
            "[%] File Downloaded !\n",
            "\n",
            "[%] Downloading Image #15 from https://www.baseballmonkey.com/media/catalog/product/cache/67e73c3e16ead9e1b9befb018a874cfb/t/r/true-baseball-bat-t2-usa-2020-8-inset2.jpg\n",
            "[%] File Downloaded !\n",
            "\n",
            "[%] Downloading Image #16 from https://dac8r2vkxfv8c.cloudfront.net/images/products/9656-10-19-32221-4_l.jpg\n",
            "[%] File Downloaded !\n",
            "\n",
            "[%] Downloading Image #17 from https://dac8r2vkxfv8c.cloudfront.net/images/products/e73f-10-19-32231_l.jpg\n",
            "[%] File Downloaded !\n",
            "\n",
            "[%] Downloading Image #18 from https://dac8r2vkxfv8c.cloudfront.net/images/products/cfda-10-19-32227-1_l.jpg\n",
            "[%] File Downloaded !\n",
            "\n",
            "[%] Downloading Image #19 from https://dac8r2vkxfv8c.cloudfront.net/images/products/e62f-10-19-32220-1_l.jpg\n",
            "[%] File Downloaded !\n",
            "\n",
            "[%] Downloading Image #20 from https://cdn.shopify.com/s/files/1/1379/0187/products/008_243_TDS-UT-20-T2X-10_USSSA_DROP10_-_ANGLE8_e2964e2e-5b8b-4f40-a5c5-d6795e398546_2048x.png?v=1583344697\n",
            "[%] File Downloaded !\n",
            "\n",
            "[%] Downloading Image #21 from https://dac8r2vkxfv8c.cloudfront.net/images/products/f1c2-10-19-32225_l.jpg\n",
            "[%] File Downloaded !\n",
            "\n",
            "[%] Downloading Image #22 from https://dac8r2vkxfv8c.cloudfront.net/images/products/8402-10-19-32228-4_l.jpg\n",
            "[%] File Downloaded !\n",
            "\n",
            "[%] Downloading Image #23 from https://www.baseballmonkey.com/media/catalog/product/cache/b32e7142753984368b8a4b1edc19a338/t/r/true-baseball-bat-tssx-usssa-2020-10-inset7.jpg\n",
            "[%] File Downloaded !\n",
            "\n",
            "[%] Downloading Image #24 from https://dac8r2vkxfv8c.cloudfront.net/images/products/8773-10-19-32220-10_l.jpg\n",
            "[%] File Downloaded !\n",
            "\n",
            "[%] Downloading Image #25 from https://dac8r2vkxfv8c.cloudfront.net/images/products/6daf-01-20-true-t---10-usa-baseball-bat--yb-ts-20-10-32224-8_l.jpg\n",
            "[%] File Downloaded !\n",
            "\n",
            "[%] Downloading Image #26 from https://dac8r2vkxfv8c.cloudfront.net/images/products/814c-10-19-32218-10_l.jpg\n",
            "[%] File Downloaded !\n",
            "\n",
            "[%] Downloading Image #27 from https://dac8r2vkxfv8c.cloudfront.net/images/products/2fd4-10-19-32230-9_l.jpg\n",
            "[%] File Downloaded !\n",
            "\n",
            "[%] Downloading Image #28 from https://dac8r2vkxfv8c.cloudfront.net/images/products/899f-10-19-32230-10_l.jpg\n",
            "[%] File Downloaded !\n",
            "\n",
            "[%] Downloading Image #29 from https://dac8r2vkxfv8c.cloudfront.net/images/products/6238-10-19-32227-10_l.jpg\n",
            "[%] File Downloaded !\n",
            "\n",
            "[%] Downloading Image #30 from https://true-rebel.ch/media/image/product/1384/md/true-rebel-baseball-bat-fck-nzs-aluminium-28-zoll.jpg\n",
            "[%] File Downloaded !\n",
            "\n",
            "\n",
            "\n",
            "[%] Done. Downloaded 30 images.\n",
            "===============================================\n",
            "\n",
            "Please show your support here\n",
            "https://www.buymeacoffee.com/gurugaurav\n",
            "\n",
            "===============================================\n",
            "\n"
          ],
          "name": "stdout"
        }
      ]
    },
    {
      "cell_type": "code",
      "metadata": {
        "id": "wm0o4PHjEuqr"
      },
      "source": [
        "#data preprocessing\n",
        "import os\n",
        "import numpy as np\n",
        "import matplotlib.pyplot as plt\n",
        "from skimage.io import imread\n",
        "from skimage.transform import resize"
      ],
      "execution_count": 8,
      "outputs": []
    },
    {
      "cell_type": "code",
      "metadata": {
        "id": "FOv_Lwdbew93"
      },
      "source": [
        "target=[]\n",
        "images=[]\n",
        "flat_data=[]\n",
        "DATADIR = '/content/images'\n",
        "CATEGORIES = ['cricket bat','Hockey stick','baseball bat']\n",
        "\n",
        "for category in CATEGORIES :\n",
        "  #print(category)\n",
        "  class_num=CATEGORIES.index(category)\n",
        "  path = os.path.join(DATADIR,category)\n",
        "  #print(path)\n",
        "  for img in os.listdir(path):\n",
        "     img_array =imread(os.path.join(path,img))\n",
        "     # img_array.shape\n",
        "     #plt.imshow(img_array)\n",
        "     img_resized = resize(img_array,(150,150,3))\n",
        "     flat_data.append(img_resized.flatten())\n",
        "     images.append(img_resized)\n",
        "     target.append(class_num)\n",
        "    \n",
        "flat_data = np.array(flat_data)\n",
        "target = np.array(target)\n",
        "images= np.array(images)"
      ],
      "execution_count": 40,
      "outputs": []
    },
    {
      "cell_type": "code",
      "metadata": {
        "colab": {
          "base_uri": "https://localhost:8080/"
        },
        "id": "d9p-TXj4ae9_",
        "outputId": "0a0d4fa0-6aa4-4d76-dda9-666702a9253b"
      },
      "source": [
        "len(flat_data[0])"
      ],
      "execution_count": 41,
      "outputs": [
        {
          "output_type": "execute_result",
          "data": {
            "text/plain": [
              "67500"
            ]
          },
          "metadata": {},
          "execution_count": 41
        }
      ]
    },
    {
      "cell_type": "code",
      "metadata": {
        "colab": {
          "base_uri": "https://localhost:8080/"
        },
        "id": "E-2TdTvAb-MJ",
        "outputId": "e1da8981-03f7-4633-d1f6-54b552816115"
      },
      "source": [
        "target"
      ],
      "execution_count": 35,
      "outputs": [
        {
          "output_type": "execute_result",
          "data": {
            "text/plain": [
              "array([0, 0, 0, 0, 0, 0, 0, 0, 0, 0, 0, 0, 0, 0, 0, 0, 0, 0, 0, 0, 0, 0,\n",
              "       0, 0, 0, 0, 0, 0, 0, 0, 1, 1, 1, 1, 1, 1, 1, 1, 1, 1, 1, 1, 1, 1,\n",
              "       1, 1, 1, 1, 1, 1, 1, 1, 1, 1, 1, 1, 1, 1, 1, 1, 2, 2, 2, 2, 2, 2,\n",
              "       2, 2, 2, 2, 2, 2, 2, 2, 2, 2, 2, 2, 2, 2, 2, 2, 2, 2, 2, 2, 2, 2,\n",
              "       2, 2])"
            ]
          },
          "metadata": {},
          "execution_count": 35
        }
      ]
    },
    {
      "cell_type": "code",
      "metadata": {
        "colab": {
          "base_uri": "https://localhost:8080/",
          "height": 282
        },
        "id": "0FEW_Ki5QllP",
        "outputId": "19b0962e-d301-4eda-f04f-0400883aef9d"
      },
      "source": [
        "unique,count=np.unique(target,return_counts=True)\n",
        "plt.bar(CATEGORIES,count)"
      ],
      "execution_count": 29,
      "outputs": [
        {
          "output_type": "execute_result",
          "data": {
            "text/plain": [
              "<BarContainer object of 3 artists>"
            ]
          },
          "metadata": {},
          "execution_count": 29
        },
        {
          "output_type": "display_data",
          "data": {
            "image/png": "[encoded data removed]",
            "text/plain": [
              "<Figure size 432x288 with 1 Axes>"
            ]
          },
          "metadata": {
            "needs_background": "light"
          }
        }
      ]
    },
    {
      "cell_type": "code",
      "metadata": {
        "id": "oPwfT1tdcs3_"
      },
      "source": [
        "#data training and testing\n",
        "from sklearn.model_selection import train_test_split\n",
        "x_train,x_test,y_train,y_test=train_test_split(flat_data,target,test_size=.25,random_state=42 )\n",
        "\n"
      ],
      "execution_count": 42,
      "outputs": []
    },
    {
      "cell_type": "code",
      "metadata": {
        "colab": {
          "base_uri": "https://localhost:8080/"
        },
        "id": "EN9WoN_aekOa",
        "outputId": "f5ff32bd-bf6b-4276-c8ab-642c06adf97d"
      },
      "source": [
        "from sklearn.model_selection import GridSearchCV\n",
        "from sklearn import svm\n",
        "#param_grid=\n",
        "           # {'c':[1,10,100,1000],'kernel':['linear']},\n",
        "#param_grid== {'c':[1,10,100,1000],'gamma':[0.001,0.0001],'kernel':['rbf']}\n",
        "param_grid = {'C': [0.1, 1, 10, 100, 1000],  \n",
        "              'gamma': [1, 0.1, 0.01, 0.001, 0.0001], \n",
        "              'kernel': ['rbf']}  \n",
        "            \n",
        "svc=svm.SVC(probability=True)\n",
        "#svc_model_orc = OneVsRestClassifier(SVC())\n",
        "clf=GridSearchCV(svc,param_grid)\n",
        "clf.fit(x_train,y_train)\n"
      ],
      "execution_count": 60,
      "outputs": [
        {
          "output_type": "execute_result",
          "data": {
            "text/plain": [
              "GridSearchCV(cv=None, error_score=nan,\n",
              "             estimator=SVC(C=1.0, break_ties=False, cache_size=200,\n",
              "                           class_weight=None, coef0=0.0,\n",
              "                           decision_function_shape='ovr', degree=3,\n",
              "                           gamma='scale', kernel='rbf', max_iter=-1,\n",
              "                           probability=True, random_state=None, shrinking=True,\n",
              "                           tol=0.001, verbose=False),\n",
              "             iid='deprecated', n_jobs=None,\n",
              "             param_grid={'C': [0.1, 1, 10, 100, 1000],\n",
              "                         'gamma': [1, 0.1, 0.01, 0.001, 0.0001],\n",
              "                         'kernel': ['rbf']},\n",
              "             pre_dispatch='2*n_jobs', refit=True, return_train_score=False,\n",
              "             scoring=None, verbose=0)"
            ]
          },
          "metadata": {},
          "execution_count": 60
        }
      ]
    },
    {
      "cell_type": "code",
      "metadata": {
        "colab": {
          "base_uri": "https://localhost:8080/"
        },
        "id": "yrbAtB5JpbBu",
        "outputId": "306182bc-738b-4590-857d-6a219bbeea17"
      },
      "source": [
        "y_predict=clf.predict(x_test)\n",
        "y_predict"
      ],
      "execution_count": 61,
      "outputs": [
        {
          "output_type": "execute_result",
          "data": {
            "text/plain": [
              "array([1, 0, 1, 2, 0, 0, 1, 2, 0, 1, 2, 1, 1, 2, 0, 0, 0, 0, 1, 1, 2, 2,\n",
              "       2])"
            ]
          },
          "metadata": {},
          "execution_count": 61
        }
      ]
    },
    {
      "cell_type": "code",
      "metadata": {
        "colab": {
          "base_uri": "https://localhost:8080/"
        },
        "id": "oct3B01nsfE-",
        "outputId": "25205944-3585-4fe0-9deb-bfe0672a655f"
      },
      "source": [
        "from sklearn.metrics import accuracy_score,confusion_matrix\n",
        "accuracy_score(y_predict,y_test)"
      ],
      "execution_count": 63,
      "outputs": [
        {
          "output_type": "execute_result",
          "data": {
            "text/plain": [
              "0.9565217391304348"
            ]
          },
          "metadata": {},
          "execution_count": 63
        }
      ]
    },
    {
      "cell_type": "code",
      "metadata": {
        "colab": {
          "base_uri": "https://localhost:8080/"
        },
        "id": "7IB5_9Mktw6e",
        "outputId": "c79820e0-a562-4b8a-ad77-41ebadecd590"
      },
      "source": [
        "confusion_matrix(y_predict,y_test)"
      ],
      "execution_count": 64,
      "outputs": [
        {
          "output_type": "execute_result",
          "data": {
            "text/plain": [
              "array([[8, 0, 0],\n",
              "       [0, 7, 1],\n",
              "       [0, 0, 7]])"
            ]
          },
          "metadata": {},
          "execution_count": 64
        }
      ]
    },
    {
      "cell_type": "code",
      "metadata": {
        "id": "bX_f_Pj-uV2X"
      },
      "source": [
        "#save the modal using pickle library\n",
        "import pickle\n",
        "pickle.dump(clf,open('img_modal.p','wb'))"
      ],
      "execution_count": 65,
      "outputs": []
    },
    {
      "cell_type": "code",
      "metadata": {
        "id": "0rkmqhayv5uL"
      },
      "source": [
        "model= pickle.load(open('img_modal.p','rb'))  "
      ],
      "execution_count": 70,
      "outputs": []
    },
    {
      "cell_type": "code",
      "metadata": {
        "id": "mcOEV7QdysIU"
      },
      "source": [
        "#testing the similar image \n",
        "flat_data=[]\n",
        "url=input('enter your url')\n",
        "img=imread(url)\n",
        "img_resized=resize(img,(150,150,3))\n",
        "flat_data.append(img_resized.flatten())\n",
        "flat_data=np.array(flat_data)\n",
        "print(img.shape)\n",
        "plt.imshow(img_resized)\n",
        "y_output=modal.predict(flat_data)\n",
        "y_output=XATEGORIES(y_output[0])\n",
        "print(f'predicted image:{y_output}')"
      ],
      "execution_count": null,
      "outputs": []
    }
  ]
}